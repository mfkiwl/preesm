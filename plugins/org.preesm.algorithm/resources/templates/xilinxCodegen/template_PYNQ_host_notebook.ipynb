{
 "cells": [
  {
   "cell_type": "code",
   "execution_count": 1,
   "metadata": {},
   "outputs": [
    {
     "data": {
      "application/javascript": [
       "\n",
       "require(['notebook/js/codecell'], function(codecell) {\n",
       "  codecell.CodeCell.options_default.highlight_modes[\n",
       "      'magic_text/x-csrc'] = {'reg':[/^%%microblaze/]};\n",
       "  Jupyter.notebook.events.one('kernel_ready.Kernel', function(){\n",
       "      Jupyter.notebook.get_cells().map(function(cell){\n",
       "          if (cell.cell_type == 'code'){ cell.auto_highlight(); } }) ;\n",
       "  });\n",
       "});\n"
      ]
     },
     "metadata": {},
     "output_type": "display_data"
    }
   ],
   "source": [
    "from pynq import Overlay\n",
    "overlay = Overlay('/home/xilinx/jupyter_notebooks/testFPGA/top_graph.bit')"
   ]
  },
  {
   "cell_type": "code",
   "execution_count": 10,
   "metadata": {},
   "outputs": [
    {
     "name": "stdout",
     "output_type": "stream",
     "text": [
      "time: 0.001730203628540039\n",
      "True\n"
     ]
    }
   ],
   "source": [
    "from pynq import allocate\n",
    "import numpy as np\n",
    "import time\n",
    "\n",
    "N = 64\n",
    "\n",
    "# Buffer creation\n",
    "in1_buffer = allocate(shape=(N,), dtype=np.int32)\n",
    "in2_buffer = allocate(shape=(N,), dtype=np.int32)\n",
    "add_buffer = allocate(shape=(N,), dtype=np.int32)\n",
    "mul_buffer = allocate(shape=(N,), dtype=np.int32)\n",
    "\n",
    "# TODO fill data\n",
    "in1 = [i for i in range(N)]\n",
    "in2 = [i * i for i in range(N)]\n",
    "\n",
    "# data copy to buffer\n",
    "np.copyto(in1_buffer, in1)\n",
    "np.copyto(in2_buffer, in2)\n",
    "\n",
    "# Buffer mapping to FPGA\n",
    "mem_read = overlay.mem_read_0\n",
    "mem_read.write(mem_read.register_map.in1_mem_1.address, in1_buffer.physical_address)\n",
    "mem_read.write(mem_read.register_map.in2_mem_1.address, in2_buffer.physical_address)\n",
    "mem_write = overlay.mem_write_0\n",
    "mem_write.write(mem_write.register_map.outAdd_mem_1.address, add_buffer.physical_address)\n",
    "mem_write.write(mem_write.register_map.outMul_mem_1.address, mul_buffer.physical_address)\n",
    "\n",
    "# Start read and write\n",
    "start = time.time()\n",
    "mem_read.register_map.CTRL.AP_START = 1\n",
    "mem_write.register_map.CTRL.AP_START = 1\n",
    "end = time.time()\n",
    "\n",
    "# Active wait\n",
    "while mem_write.register_map.CTRL.AP_DONE == 0:\n",
    "    end = time.time()\n",
    "print (\"time:\", end - start)\n",
    "\n",
    "# TODO check results\n",
    "correct = True\n",
    "for i in range(N):\n",
    "    correct = correct and in1[i] + in2[i] == add_buffer[i]\n",
    "    correct = correct and in1[i] * in2[i] == mul_buffer[i]\n",
    "    \n",
    "print(correct)"
   ]
  },
  {
   "cell_type": "code",
   "execution_count": null,
   "metadata": {},
   "outputs": [],
   "source": []
  }
 ],
 "metadata": {
  "kernelspec": {
   "display_name": "Python 3",
   "language": "python",
   "name": "python3"
  },
  "language_info": {
   "codemirror_mode": {
    "name": "ipython",
    "version": 3
   },
   "file_extension": ".py",
   "mimetype": "text/x-python",
   "name": "python",
   "nbconvert_exporter": "python",
   "pygments_lexer": "ipython3",
   "version": "3.6.5"
  }
 },
 "nbformat": 4,
 "nbformat_minor": 2
}
